{
 "cells": [
  {
   "cell_type": "code",
   "execution_count": null,
   "metadata": {},
   "outputs": [],
   "source": [
    "#checking df an path "
   ]
  },
  {
   "cell_type": "code",
   "execution_count": 2,
   "metadata": {},
   "outputs": [],
   "source": [
    "import pandas as pd \n",
    "import numpy as np"
   ]
  },
  {
   "cell_type": "code",
   "execution_count": 2,
   "metadata": {},
   "outputs": [
    {
     "name": "stderr",
     "output_type": "stream",
     "text": [
      "C:\\Users\\omare\\AppData\\Local\\Temp\\ipykernel_27644\\3967296966.py:2: DtypeWarning: Columns (4) have mixed types. Specify dtype option on import or set low_memory=False.\n",
      "  data=pd.read_csv(r\"J:\\common_voice\\common\\cv-corpus-19.0-2024-09-13\\en\\train.tsv\",sep='\\t')\n"
     ]
    }
   ],
   "source": [
    "#reading tsc\n",
    "data=pd.read_csv(r\"J:\\common_voice\\common\\cv-corpus-19.0-2024-09-13\\en\\train.tsv\",sep='\\t')\n",
    "durations = pd.read_csv(r\"J:\\common_voice\\common\\cv-corpus-19.0-2024-09-13\\en\\clip_durations.tsv\",sep='\\t')"
   ]
  },
  {
   "cell_type": "code",
   "execution_count": 3,
   "metadata": {},
   "outputs": [],
   "source": [
    "merged_data = pd.merge(data, durations, left_on='path', right_on='clip', how='inner')"
   ]
  },
  {
   "cell_type": "code",
<<<<<<< Updated upstream
   "execution_count": 1,
   "metadata": {},
   "outputs": [
    {
     "ename": "NameError",
     "evalue": "name 'merged_data' is not defined",
     "output_type": "error",
     "traceback": [
      "\u001b[1;31m---------------------------------------------------------------------------\u001b[0m",
      "\u001b[1;31mNameError\u001b[0m                                 Traceback (most recent call last)",
      "Cell \u001b[1;32mIn[1], line 1\u001b[0m\n\u001b[1;32m----> 1\u001b[0m filtered_data \u001b[38;5;241m=\u001b[39m \u001b[43mmerged_data\u001b[49m[merged_data[\u001b[38;5;124m'\u001b[39m\u001b[38;5;124mduration[ms]\u001b[39m\u001b[38;5;124m'\u001b[39m] \u001b[38;5;241m<\u001b[39m \u001b[38;5;241m2000\u001b[39m]\n\u001b[0;32m      3\u001b[0m \u001b[38;5;66;03m# Print the filtered DataFrame or its size\u001b[39;00m\n\u001b[0;32m      4\u001b[0m \u001b[38;5;28mprint\u001b[39m(\u001b[38;5;124mf\u001b[39m\u001b[38;5;124m\"\u001b[39m\u001b[38;5;124mNumber of rows under 2000 ms: \u001b[39m\u001b[38;5;132;01m{\u001b[39;00m\u001b[38;5;28mlen\u001b[39m(filtered_data)\u001b[38;5;132;01m}\u001b[39;00m\u001b[38;5;124m\"\u001b[39m)\n",
      "\u001b[1;31mNameError\u001b[0m: name 'merged_data' is not defined"
=======
   "execution_count": 5,
   "metadata": {},
   "outputs": [
    {
     "name": "stdout",
     "output_type": "stream",
     "text": [
      "Number of rows under 2000 ms: 1109604\n",
      "                                                 client_id  \\\n",
      "0        e6e86bf2343dfd28fc27eb798c1f12d42a909c2a9eb931...   \n",
      "1        e6e86bf2343dfd28fc27eb798c1f12d42a909c2a9eb931...   \n",
      "2        e6e86bf2343dfd28fc27eb798c1f12d42a909c2a9eb931...   \n",
      "3        e6ee693358a24450e38185ea324c48a9626b2e7515d4ea...   \n",
      "4        e6ef88404179e958b61f65ffdac36c2a357306a53765d7...   \n",
      "...                                                    ...   \n",
      "1116229  372293e65cdab88771e028a4351651ab2eff64438ddafc...   \n",
      "1116230  372293e65cdab88771e028a4351651ab2eff64438ddafc...   \n",
      "1116231  372293e65cdab88771e028a4351651ab2eff64438ddafc...   \n",
      "1116232  372293e65cdab88771e028a4351651ab2eff64438ddafc...   \n",
      "1116233  372293e65cdab88771e028a4351651ab2eff64438ddafc...   \n",
      "\n",
      "                                 path  \\\n",
      "0        common_voice_en_35390714.mp3   \n",
      "1        common_voice_en_35390716.mp3   \n",
      "2        common_voice_en_35390717.mp3   \n",
      "3        common_voice_en_17280426.mp3   \n",
      "4        common_voice_en_23361615.mp3   \n",
      "...                               ...   \n",
      "1116229  common_voice_en_40183450.mp3   \n",
      "1116230  common_voice_en_40183451.mp3   \n",
      "1116231  common_voice_en_40183478.mp3   \n",
      "1116232  common_voice_en_40183482.mp3   \n",
      "1116233  common_voice_en_40183486.mp3   \n",
      "\n",
      "                                               sentence_id  \\\n",
      "0        c6fa7671e6084d554916f618a5c99be045d027b544ff29...   \n",
      "1        c6d44521804dd6d7861f1ef62724564ab2d412b2a16899...   \n",
      "2        c6f474c62c583b90e66f8d11eda514b067683ce7d6b676...   \n",
      "3                         f2daecd0ccb0e31dda418615f9b72a5a   \n",
      "4        6a292889c808671942445e7e4e7557dd2cff5b24dd47f7...   \n",
      "...                                                    ...   \n",
      "1116229  ea24b2d0c4a8d949ba4dbd47c79e35d9611c8e54f44857...   \n",
      "1116230  ea22a3182bb5fce3ef5937dd51554a8fccf28d495f4fca...   \n",
      "1116231  ea1d44b75963a78d65768d3284f540348d08b052caac5d...   \n",
      "1116232  e9f0dd439bf61f0af1254ef9a24a76ad0893001b9fd2a1...   \n",
      "1116233  ea17f1983decd8a37cd1fe9c0588607348fc426bd23d9b...   \n",
      "\n",
      "                                                  sentence sentence_domain  \\\n",
      "0        Some differences exist between eukaryotes and ...             NaN   \n",
      "1               ‘You don’t seem to mind it,’ observed Bob.             NaN   \n",
      "2                           But this time, it's different.             NaN   \n",
      "3        The convenience store manager was mad at the u...             NaN   \n",
      "4             Elevators are characteristic to skyscrapers.             NaN   \n",
      "...                                                    ...             ...   \n",
      "1116229                       That’s your own imagination.             NaN   \n",
      "1116230  Police confronted about two hundred protesters...             NaN   \n",
      "1116231                    He has six sons and a daughter.             NaN   \n",
      "1116232  The highway is named after a popular former Qu...             NaN   \n",
      "1116233  An adjoining conservation area, Eastcote Park,...             NaN   \n",
      "\n",
      "         up_votes  down_votes      age          gender  \\\n",
      "0               2           0      NaN             NaN   \n",
      "1               2           0      NaN             NaN   \n",
      "2               2           0      NaN             NaN   \n",
      "3               2           0      NaN             NaN   \n",
      "4               2           1      NaN             NaN   \n",
      "...           ...         ...      ...             ...   \n",
      "1116229         2           0  fifties  male_masculine   \n",
      "1116230         2           0  fifties  male_masculine   \n",
      "1116231         2           0  fifties  male_masculine   \n",
      "1116232         2           0  fifties  male_masculine   \n",
      "1116233         4           0  fifties  male_masculine   \n",
      "\n",
      "                                   accents  variant locale  segment  \\\n",
      "0                                      NaN      NaN     en      NaN   \n",
      "1                                      NaN      NaN     en      NaN   \n",
      "2                                      NaN      NaN     en      NaN   \n",
      "3                                      NaN      NaN     en      NaN   \n",
      "4                                      NaN      NaN     en      NaN   \n",
      "...                                    ...      ...    ...      ...   \n",
      "1116229  German English,Non native speaker      NaN     en      NaN   \n",
      "1116230  German English,Non native speaker      NaN     en      NaN   \n",
      "1116231  German English,Non native speaker      NaN     en      NaN   \n",
      "1116232  German English,Non native speaker      NaN     en      NaN   \n",
      "1116233  German English,Non native speaker      NaN     en      NaN   \n",
      "\n",
      "                                 clip  duration[ms]  \n",
      "0        common_voice_en_35390714.mp3          7452  \n",
      "1        common_voice_en_35390716.mp3          4680  \n",
      "2        common_voice_en_35390717.mp3          3456  \n",
      "3        common_voice_en_17280426.mp3          4800  \n",
      "4        common_voice_en_23361615.mp3          4536  \n",
      "...                               ...           ...  \n",
      "1116229  common_voice_en_40183450.mp3          3096  \n",
      "1116230  common_voice_en_40183451.mp3          6228  \n",
      "1116231  common_voice_en_40183478.mp3          2808  \n",
      "1116232  common_voice_en_40183482.mp3          7740  \n",
      "1116233  common_voice_en_40183486.mp3          9216  \n",
      "\n",
      "[1109604 rows x 15 columns]\n"
>>>>>>> Stashed changes
     ]
    }
   ],
   "source": [
<<<<<<< Updated upstream
    "filtered_data = merged_data[merged_data['duration[ms]'] < 2000]\n",
    "\n",
    "# Print the filtered DataFrame or its size\n",
    "print(f\"Number of rows under 2000 ms: {len(filtered_data)}\")\n",
    "print(filtered_data)"
=======
    "# Filter rows where the duration is less than 2000 ms\n",
    "filtered_data = merged_data[merged_data['duration[ms]'] < 10000]\n",
    "\n",
    "# Print the filtered DataFrame or its size\n",
    "print(f\"Number of rows under 2000 ms: {len(filtered_data)}\")\n",
    "print(filtered_data)\n"
>>>>>>> Stashed changes
   ]
  },
  {
   "cell_type": "code",
   "execution_count": 27,
   "metadata": {},
   "outputs": [
    {
     "data": {
      "image/png": "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",
      "text/plain": [
       "<Figure size 1000x600 with 1 Axes>"
      ]
     },
     "metadata": {},
     "output_type": "display_data"
    }
   ],
   "source": [
    "import matplotlib.pyplot as plt\n",
    "\n",
    "# Plot the histogram\n",
    "plt.figure(figsize=(10, 6))\n",
    "plt.hist(merged_data['duration[ms]'] // 1000, bins=30, color='blue', edgecolor='black', alpha=0.7)\n",
    "\n",
    "# Add labels and title\n",
    "plt.xlabel('Duration (ms)')\n",
    "plt.ylabel('Frequency')\n",
    "plt.title('Histogram of Duration in ms')\n",
    "\n",
    "# Display the histogram\n",
    "plt.grid(axis='y', linestyle='--', alpha=0.7)\n",
    "plt.show()\n"
   ]
  }
 ],
 "metadata": {
  "kernelspec": {
   "display_name": "Python 3",
   "language": "python",
   "name": "python3"
  },
  "language_info": {
   "codemirror_mode": {
    "name": "ipython",
    "version": 3
   },
   "file_extension": ".py",
   "mimetype": "text/x-python",
   "name": "python",
   "nbconvert_exporter": "python",
   "pygments_lexer": "ipython3",
   "version": "3.12.7"
  }
 },
 "nbformat": 4,
 "nbformat_minor": 2
}
